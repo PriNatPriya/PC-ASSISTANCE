{
 "cells": [
  {
   "cell_type": "code",
   "execution_count": null,
   "metadata": {},
   "outputs": [],
   "source": [
    "import speech_recognition as sr  \n",
    "import playsound \n",
    "from gtts import gTTS \n",
    "from youtube_search import YoutubeSearch\n",
    "import os \n",
    "from selenium import webdriver\n",
    "from selenium.webdriver.support.ui import WebDriverWait\n",
    "from selenium.webdriver.common.by import By\n",
    "from selenium.webdriver.support import expected_conditions as EC\n",
    "import pyaudio"
   ]
  },
  {
   "cell_type": "code",
   "execution_count": null,
   "metadata": {},
   "outputs": [],
   "source": [
    "#List of words\n",
    "a_exit = ['shutup','shut']\n",
    "h_exit = ['exit', 'bye','sleep','nothing else','nothig']"
   ]
  },
  {
   "cell_type": "code",
   "execution_count": null,
   "metadata": {},
   "outputs": [],
   "source": [
    "def searchyt(text1):\n",
    "    browser = webdriver.Chrome(r\"F:\\work\\pcControl\\youtube\\chromedriver\\chromedriver.exe\")\n",
    "    browser.implicitly_wait(1) \n",
    "    browser.maximize_window() \n",
    "   \n",
    "    results = YoutubeSearch(text1, max_results=5).to_dict()\n",
    "    searchKey = results[0][\"url_suffix\"]\n",
    "    browser.get(\"https://www.youtube.com/\" + searchKey) \n",
    "    WebDriverWait(browser, 15).until(EC.element_to_be_clickable((By.XPATH, \"//button[@aria-label='Play']\"))).click()"
   ]
  },
  {
   "cell_type": "code",
   "execution_count": null,
   "metadata": {},
   "outputs": [],
   "source": []
  },
  {
   "cell_type": "code",
   "execution_count": null,
   "metadata": {},
   "outputs": [],
   "source": []
  },
  {
   "cell_type": "code",
   "execution_count": null,
   "metadata": {},
   "outputs": [],
   "source": []
  },
  {
   "cell_type": "code",
   "execution_count": null,
   "metadata": {},
   "outputs": [],
   "source": [
    "def funlist(text):\n",
    "    if \"notepad\" in text:\n",
    "        assistant_speaks(\"new or exist\")\n",
    "        text1 = get_audio().lower() \n",
    "      \n",
    "        if \"exist\" in str(text1):\n",
    "            assistant_speaks(\"Please tell me the file name\")\n",
    "            text1 = get_audio().lower()\n",
    "           \n",
    "            fpath = r\"F:\\work\\pcControl\\pcFunction\\docs\"\n",
    "            assistant_speaks(\"file name please\")\n",
    "            text1 = get_audio().lower()\n",
    "            fname = text1\n",
    "            filename = fname + \".txt\"\n",
    "            filename = os.path.join(fpath,filename)\n",
    "            filename = Path(filename)\n",
    "            \n",
    "            if filename.is_file():\n",
    "                assistant_speaks(\"content please\")\n",
    "                text1 = get_audio().lower()\n",
    "                content = text1\n",
    "                content = content+\"\\n\"\n",
    "                content = content.capitalize()\n",
    "                with open(filename,\"a\") as f:\n",
    "                    f.write(content)\n",
    "                    assistant_speaks(\"file updated successfully\")    \n",
    "            else:\n",
    "                assistant_speaks(\"sorry connot find your file\")\n",
    "       \n",
    "        elif \"new\" in str(text1):\n",
    "            assistant_speaks(\"File name please\")\n",
    "            text1 = get_audio().lower()\n",
    "            txtname = text1\n",
    "            assistant_speaks(\"content please\")\n",
    "            time_limit = 1000\n",
    "            text1 = get_audio().lower()\n",
    "            txt = text1\n",
    "            anotepad(txtname,txt)\n",
    "            assistant_speaks(\"file saved in the default place.\")\n",
    "    \n",
    "    elif \"youtube\" in text:\n",
    "        assistant_speaks(\"song please\")\n",
    "        text1 = get_audio().lower() \n",
    "        searchyt(text1) \n"
   ]
  },
  {
   "cell_type": "code",
   "execution_count": null,
   "metadata": {},
   "outputs": [],
   "source": [
    "def get_audio(): \n",
    "\n",
    "    rObject = sr.Recognizer() \n",
    "    audio = '' \n",
    "    with sr.Microphone() as source: \n",
    "        print(\"Speak...\")    \n",
    "        audio = rObject.listen(source, phrase_time_limit = 5) \n",
    "    print(\"Stop.\")  \n",
    "\n",
    "    try: \n",
    "\n",
    "        text = rObject.recognize_google(audio, language ='en-US') \n",
    "        print(\"You : \", text) \n",
    "        txt_save = \"\\n\"+text\n",
    "#         print(\"text save : \", txt_save) \n",
    "\n",
    "        return text \n",
    "\n",
    "    except: \n",
    "\n",
    "        assistant_speaks(\"Could not understand your audio, PLease try again !\") \n",
    "        text = \"dummy\"\n",
    "        return text\n",
    "\n",
    "\n",
    "\n",
    "def assistant_speaks(output):\n",
    "    num = -5\n",
    "    num +=1\n",
    "    print(\"PerSon : \", output) \n",
    "    toSpeak = gTTS(text = output, lang ='en', slow = False) \n",
    "    file = str(num)+\".mp3\" \n",
    "    toSpeak.save(file)  \n",
    "    playsound.playsound(file, True) \n",
    "    os.remove(file) "
   ]
  },
  {
   "cell_type": "code",
   "execution_count": null,
   "metadata": {},
   "outputs": [],
   "source": [
    "if __name__ == \"__main__\": \n",
    "    flg_first = True\n",
    "    txt_save= \"\"\n",
    "    \n",
    "    while(1): \n",
    "        if flg_first == True:\n",
    "            assistant_speaks(\"Hello Boss what can i do for you???\")\n",
    "            text = get_audio().lower()\n",
    "            flg_first = False\n",
    "        else:\n",
    "            assistant_speaks(\"Anything else boss???\")\n",
    "            text = get_audio().lower()\n",
    "\n",
    "        if text == 0: \n",
    "            continue\n",
    "        if str(text) in a_exit:\n",
    "            assistant_speaks(\"Okay Bosss\") \n",
    "            break \n",
    "            \n",
    "        if str(text) in h_exit:\n",
    "            assistant_speaks(\"With pleasure Bosss\") \n",
    "            break\n",
    "            \n",
    "        funlist(text) "
   ]
  },
  {
   "cell_type": "code",
   "execution_count": null,
   "metadata": {},
   "outputs": [],
   "source": []
  },
  {
   "cell_type": "code",
   "execution_count": null,
   "metadata": {},
   "outputs": [],
   "source": []
  }
 ],
 "metadata": {
  "kernelspec": {
   "display_name": "Python 3",
   "language": "python",
   "name": "python3"
  },
  "language_info": {
   "codemirror_mode": {
    "name": "ipython",
    "version": 3
   },
   "file_extension": ".py",
   "mimetype": "text/x-python",
   "name": "python",
   "nbconvert_exporter": "python",
   "pygments_lexer": "ipython3",
   "version": "3.7.9"
  }
 },
 "nbformat": 4,
 "nbformat_minor": 4
}
